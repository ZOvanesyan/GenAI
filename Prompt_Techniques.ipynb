{
  "nbformat": 4,
  "nbformat_minor": 0,
  "metadata": {
    "colab": {
      "provenance": [],
      "authorship_tag": "ABX9TyPXdg3BWLER7Mn8AYw0MFtL"
    },
    "kernelspec": {
      "name": "python3",
      "display_name": "Python 3"
    },
    "language_info": {
      "name": "python"
    }
  },
  "cells": [
    {
      "cell_type": "code",
      "source": [
        "!pip install openai -q -q -q"
      ],
      "metadata": {
        "colab": {
          "base_uri": "https://localhost:8080/"
        },
        "id": "_5Df4K4JvsCU",
        "outputId": "7a0b7d15-43d1-460c-b379-1e21378613ab"
      },
      "execution_count": 2,
      "outputs": [
        {
          "output_type": "stream",
          "name": "stdout",
          "text": [
            "\u001b[2K     \u001b[90m━━━━━━━━━━━━━━━━━━━━━━━━━━━━━━━━━━━━━━━━\u001b[0m \u001b[32m262.4/262.4 kB\u001b[0m \u001b[31m4.3 MB/s\u001b[0m eta \u001b[36m0:00:00\u001b[0m\n",
            "\u001b[2K     \u001b[90m━━━━━━━━━━━━━━━━━━━━━━━━━━━━━━━━━━━━━━━━\u001b[0m \u001b[32m75.6/75.6 kB\u001b[0m \u001b[31m6.0 MB/s\u001b[0m eta \u001b[36m0:00:00\u001b[0m\n",
            "\u001b[2K     \u001b[90m━━━━━━━━━━━━━━━━━━━━━━━━━━━━━━━━━━━━━━━━\u001b[0m \u001b[32m77.8/77.8 kB\u001b[0m \u001b[31m8.0 MB/s\u001b[0m eta \u001b[36m0:00:00\u001b[0m\n",
            "\u001b[2K     \u001b[90m━━━━━━━━━━━━━━━━━━━━━━━━━━━━━━━━━━━━━━━━\u001b[0m \u001b[32m58.3/58.3 kB\u001b[0m \u001b[31m5.7 MB/s\u001b[0m eta \u001b[36m0:00:00\u001b[0m\n",
            "\u001b[?25h"
          ]
        }
      ]
    },
    {
      "cell_type": "code",
      "execution_count": 3,
      "metadata": {
        "id": "BakCcsJjvCg7"
      },
      "outputs": [],
      "source": [
        "import os\n",
        "import openai\n",
        "\n",
        "openai.api_key  = 'enter your OpenAI API key'\n",
        "os.environ['OPENAI_API_KEY']= 'enter your OpenAI API key'"
      ]
    },
    {
      "cell_type": "code",
      "source": [
        "client = openai.OpenAI()\n",
        "\n",
        "def get_response(prompt, model=\"gpt-3.5-turbo\"):\n",
        "    messages = [{\"role\": \"user\", \"content\": prompt}]\n",
        "    response = client.chat.completions.create(\n",
        "        model=model,\n",
        "        messages=messages,\n",
        "        temperature=0\n",
        "    )\n",
        "\n",
        "    return response.choices[0].message.content"
      ],
      "metadata": {
        "id": "vk2bDPjwvkZH"
      },
      "execution_count": 33,
      "outputs": []
    },
    {
      "cell_type": "markdown",
      "source": [
        "## Prompting Principles\n",
        "- **Principle 1: Write clear and specific instructions**\n",
        "- **Principle 2: Give the model time to “think”**\n",
        "\n",
        "### Tactics\n",
        "\n",
        "#### Tactic 1: Use delimiters to clearly indicate distinct parts of the input\n",
        "- Delimiters can be anything like: ```, \"\"\", < >, `<tag> </tag>`, `:`"
      ],
      "metadata": {
        "id": "26M_jEvVZgoH"
      }
    },
    {
      "cell_type": "code",
      "source": [
        "text = f\"\"\"\n",
        "To prepare a cup of espresso, first, roast the coffee beans \\\n",
        "to your preferred roast level (light, medium, or dark). \\\n",
        "Next, grind the roasted beans to the desired coarseness. \\\n",
        "Once the coffee is ground, add it to an espresso machine \\\n",
        "and pour in some water to prepare the espresso shot. \\\n",
        "Be mindful of the proportions of coffee and water; \\\n",
        "an imbalance can result in a less flavorful beverage.\n",
        "\"\"\"\n",
        "prompt = f\"\"\"\n",
        "Summarize the text delimited by triple backticks \\\n",
        "into a single sentence.\n",
        "```{text}```\n",
        "\"\"\"\n",
        "response = get_response(prompt)\n",
        "print(response)"
      ],
      "metadata": {
        "colab": {
          "base_uri": "https://localhost:8080/"
        },
        "id": "hnYuXJDLZoGb",
        "outputId": "91cbc007-fd33-42bc-c40c-4d920f718238"
      },
      "execution_count": 24,
      "outputs": [
        {
          "output_type": "stream",
          "name": "stdout",
          "text": [
            "The process of making espresso involves roasting coffee beans, grinding them to the desired coarseness, adding them to an espresso machine with water, and ensuring the right proportions for a flavorful shot.\n"
          ]
        }
      ]
    },
    {
      "cell_type": "markdown",
      "source": [
        "#### Tactic 2: Ask for a structured output\n",
        "- JSON, HTML, YAML"
      ],
      "metadata": {
        "id": "gJCLyfsWdapN"
      }
    },
    {
      "cell_type": "code",
      "source": [
        "prompt = f\"\"\"\n",
        "Generate average male and female body parameters. \\\n",
        "Provide them in YAML format with the following keys:\n",
        "gender, segment.\n",
        "\"\"\"\n",
        "response = get_response(prompt)\n",
        "print(response)"
      ],
      "metadata": {
        "colab": {
          "base_uri": "https://localhost:8080/"
        },
        "id": "4dZRosrBdbhP",
        "outputId": "7e9b5c61-ac2a-4cc6-e1bf-81216d64041f"
      },
      "execution_count": 21,
      "outputs": [
        {
          "output_type": "stream",
          "name": "stdout",
          "text": [
            "```yaml\n",
            "- gender: male\n",
            "  segment:\n",
            "    - height: 5'9\" (175 cm)\n",
            "    - weight: 180 lbs (82 kg)\n",
            "    - chest circumference: 40 inches (102 cm)\n",
            "    - waist circumference: 34 inches (86 cm)\n",
            "    - hip circumference: 39 inches (99 cm)\n",
            "    - bicep circumference: 14 inches (36 cm)\n",
            "\n",
            "- gender: female\n",
            "  segment:\n",
            "    - height: 5'4\" (163 cm)\n",
            "    - weight: 140 lbs (64 kg)\n",
            "    - bust circumference: 36 inches (91 cm)\n",
            "    - waist circumference: 28 inches (71 cm)\n",
            "    - hip circumference: 38 inches (97 cm)\n",
            "    - bicep circumference: 12 inches (30 cm)\n",
            "```\n"
          ]
        }
      ]
    },
    {
      "cell_type": "markdown",
      "source": [
        "#### Tactic 3: Ask the model to check whether conditions are satisfied"
      ],
      "metadata": {
        "id": "sl6ztz-rflKF"
      }
    },
    {
      "cell_type": "code",
      "source": [
        "text_1 = f\"\"\"\n",
        "Making a cup of coffee espresso is an art! First, select your \\\n",
        "favorite coffee beans and roast them to your preferred \\\n",
        "level (light, medium, or dark). Once they're roasted, \\\n",
        "grind the beans to a consistency that matches your \\\n",
        "brewing method. Next, take your espresso machine and \\\n",
        "add the ground coffee to it. Now, pour some water into \\\n",
        "the machine to brew the espresso shot. Remember to \\\n",
        "balance the coffee-to-water ratio for the best taste. \\\n",
        "After brewing, feel free to adjust the flavor with milk \\\n",
        "or sugar according to your preference. There you have it, \\\n",
        "a perfect cup of coffee to savor.\n",
        "\"\"\"\n",
        "\n",
        "prompt = f\"\"\"\n",
        "You will be provided with text enclosed in triple quotes. If the text describes a sequence of steps, reformat those instructions as follows:\n",
        "\n",
        "Step 1 - ...\n",
        "Step 2 - ...\n",
        "…\n",
        "Step N - …\n",
        "\n",
        "If the text does not describe a sequence of steps, then simply respond with \\\"No steps provided.\\\"\n",
        "\n",
        "\\\"\\\"\\\"{text_1}\\\"\\\"\\\"\n",
        "\"\"\"\n",
        "\n",
        "response = get_response(prompt)\n",
        "print(\"Completion for Text 1:\")\n",
        "print(response)"
      ],
      "metadata": {
        "colab": {
          "base_uri": "https://localhost:8080/"
        },
        "id": "soJ0HTyzfl9U",
        "outputId": "b77d7ce8-4428-4e3c-a040-0acc46c64104"
      },
      "execution_count": 23,
      "outputs": [
        {
          "output_type": "stream",
          "name": "stdout",
          "text": [
            "Completion for Text 1:\n",
            "Step 1 - Select your favorite coffee beans and roast them to your preferred level (light, medium, or dark).\n",
            "Step 2 - Grind the beans to a consistency that matches your brewing method.\n",
            "Step 3 - Add the ground coffee to your espresso machine.\n",
            "Step 4 - Pour water into the machine to brew the espresso shot, balancing the coffee-to-water ratio.\n",
            "Step 5 - Adjust the flavor with milk or sugar according to your preference.\n"
          ]
        }
      ]
    },
    {
      "cell_type": "markdown",
      "source": [
        "#### Tactic 4: \"Few-shot\" prompting"
      ],
      "metadata": {
        "id": "iFBGJiMmh5NO"
      }
    },
    {
      "cell_type": "code",
      "source": [
        "prompt = f\"\"\"\n",
        "Given a text, summarize the main points in bullet points.\n",
        "\n",
        "Example 1:\n",
        "Text: \"The global economy is facing challenges due to high inflation rates. \\\n",
        "Central banks around the world are considering raising interest rates to combat \\\n",
        "inflation. However, there is concern that higher interest rates could slow down economic growth.\"\n",
        "\n",
        "Summary:\n",
        "- The global economy is challenged by high inflation rates. \\\n",
        "- Central banks are considering raising interest rates to fight inflation. \\\n",
        "- Concerns exist that higher interest rates may slow economic growth. \\\n",
        "\n",
        "Example 2:\n",
        "Text: \"Renewable energy sources like solar and wind power are becoming more cost-effective. \\\n",
        "This is leading to increased investment in renewable energy projects. The shift towards \\\n",
        "renewable energy is also driven by the need to reduce carbon emissions.\"\n",
        "\n",
        "Summary:\n",
        "- Renewable energy sources are becoming more cost-effective. \\\n",
        "- Increased investment in renewable energy projects is observed. \\\n",
        "- The shift to renewable energy is motivated by the need to reduce carbon emissions. \\\n",
        "\n",
        "Your Task:\n",
        "Text: \"Artificial intelligence is rapidly advancing, leading to innovations \\\n",
        "in various fields. These advancements are not only automating tasks but also \\\n",
        "enhancing human capabilities. There is a growing debate on the ethical\n",
        "implications of AI and its impact on employment.\"\n",
        "\n",
        "Summary:\n",
        "\"\"\"\n",
        "response = get_response(prompt)\n",
        "print(response)"
      ],
      "metadata": {
        "colab": {
          "base_uri": "https://localhost:8080/"
        },
        "id": "lzVa5HzWh5xT",
        "outputId": "18b924a6-87b5-4571-f1ba-111b83847fa0"
      },
      "execution_count": 26,
      "outputs": [
        {
          "output_type": "stream",
          "name": "stdout",
          "text": [
            "- Artificial intelligence is rapidly advancing and driving innovations in various fields.\n",
            "- AI is automating tasks and enhancing human capabilities.\n",
            "- There is a growing debate on the ethical implications of AI and its impact on employment.\n"
          ]
        }
      ]
    },
    {
      "cell_type": "markdown",
      "source": [
        "### Principle 2: Give the model time to “think”\n",
        "\n",
        "#### Tactic 1: Specify the steps required to complete a task and ask for output in a specified format\n"
      ],
      "metadata": {
        "id": "sNm_I_Dqo-rO"
      }
    },
    {
      "cell_type": "code",
      "source": [
        "text = f\"\"\"\n",
        "A hare was making fun of the tortoise one day for being so slow. \"Do you ever get anywhere?\" \\\n",
        "he asked with a mocking laugh. \"Yes,\" replied the tortoise, \"and I get there sooner than you think. \\\n",
        "I'll run you a race and prove it.\" The hare, amused by the idea of running a race with the tortoise, \\\n",
        "agreed. So a course was fixed and a start was made. The hare darted almost out of sight at once, \\\n",
        "but soon stopped and, to show his contempt for the tortoise, lay down to take a nap. The tortoise \\\n",
        "plodded on and plodded on, and when the hare awoke from his nap, he saw the tortoise just near the \\\n",
        "finish and could not catch up in time. The tortoise won the race. The moral of the story is that \\\n",
        "slow and steady wins the race.\n",
        "\"\"\"\n",
        "\n",
        "# Task instructions\n",
        "prompt = f\"\"\"\n",
        "To effectively process and analyze the text, complete the following steps:\n",
        "1. Provide a brief summary of the fable in two sentences, focusing on the main plot and the moral lesson.\n",
        "2. Identify the two main characters in the story.\n",
        "3. Create a moral lesson in your own words based on the story's outcome.\n",
        "4. Generate a JSON object that includes three keys: 'summary', 'characters', and 'moral'. \\\n",
        "The 'summary' key should hold your two-sentence summary, 'characters' should be a \\\n",
        "list of the main characters, and 'moral' should contain the moral lesson you've formulated.\n",
        "5. Translate the summary into Italian.\n",
        "\n",
        "\n",
        "Present your answers in the designated format, with each step's response clearly indicated:\n",
        "\n",
        "Step 1: <Your two-sentence summary>\n",
        "Step 2: <List of main characters>\n",
        "Step 3: <Your moral lesson>\n",
        "Step 4: <JSON object>\n",
        "Step 5: <Translation>\n",
        "\n",
        "Begin with the text as shown:\n",
        "```{text}```\n",
        "\"\"\"\n",
        "\n",
        "response = get_response(prompt)\n",
        "print(response)\n"
      ],
      "metadata": {
        "colab": {
          "base_uri": "https://localhost:8080/"
        },
        "id": "zTdPZ9lHpAxu",
        "outputId": "2e88b59c-e9a7-4710-a0ea-6b37afd617b0"
      },
      "execution_count": 37,
      "outputs": [
        {
          "output_type": "stream",
          "name": "stdout",
          "text": [
            "Step 1: The hare challenges the tortoise to a race, confident in his speed, but the tortoise's steady pace ultimately wins the race, teaching the moral that slow and steady wins the race.\n",
            "\n",
            "Step 2: Hare, Tortoise\n",
            "\n",
            "Step 3: The moral lesson derived from the fable is that perseverance and consistency often lead to success, even when faced with seemingly faster competition.\n",
            "\n",
            "Step 4: \n",
            "```json\n",
            "{\n",
            "  \"summary\": \"The hare challenges the tortoise to a race, confident in his speed, but the tortoise's steady pace ultimately wins the race, teaching the moral that slow and steady wins the race.\",\n",
            "  \"characters\": [\"Hare\", \"Tortoise\"],\n",
            "  \"moral\": \"The moral lesson derived from the fable is that perseverance and consistency often lead to success, even when faced with seemingly faster competition.\"\n",
            "}\n",
            "```\n",
            "\n",
            "Step 5: La lepre sfida la tartaruga a una gara, fiduciosa nella sua velocità, ma il passo costante della tartaruga alla fine vince la gara, insegnando il morale che il lento e costante vince la gara.\n"
          ]
        }
      ]
    },
    {
      "cell_type": "markdown",
      "source": [
        "## Text to summarize\n",
        "In this exercise, we will summarize text with a focus on specific topics.\n"
      ],
      "metadata": {
        "id": "aZOxGW8crSgr"
      }
    },
    {
      "cell_type": "markdown",
      "source": [
        "## Summarize with a word/sentence/character limit\n"
      ],
      "metadata": {
        "id": "ciV8P2BDrpZq"
      }
    },
    {
      "cell_type": "code",
      "source": [
        "prod_review = \"\"\"\n",
        "I recently purchased the new smartwatch, and after a few weeks of use, \\\n",
        "I'm genuinely impressed. The watch's design is sleek and modern, \\\n",
        "fitting comfortably on my wrist. One of its standout features is \\\n",
        "the battery life, lasting almost a week on a single charge, which \\\n",
        "is significantly better than other smartwatches I've used. \\\n",
        "The health tracking capabilities are also quite accurate, monitoring \\\n",
        "my heart rate, steps, and sleep patterns effectively. The interface \\\n",
        "is user-friendly, making it easy to navigate through apps and notifications. \\\n",
        "However, I did experience some issues with the GPS accuracy during long runs, \\\n",
        "which was a bit disappointing. Despite this, the overall performance and \\\n",
        "the quality of the smartwatch make it a worthy investment for \\\n",
        "anyone looking to enhance their daily routine.\n",
        "\"\"\"\n",
        "\n",
        "prompt = f\"\"\"\n",
        "Your task is to generate a short summary of a product \\\n",
        "review.\n",
        "\n",
        "Given the detailed product review text, provide a summary \\\n",
        "in no more than 10 words. Focus on the overarching opinion or key takeaway of the review.\n",
        "\n",
        "Review: ```{prod_review}```\n",
        "\"\"\"\n",
        "\n",
        "response = get_response(prompt)\n",
        "print(response)"
      ],
      "metadata": {
        "colab": {
          "base_uri": "https://localhost:8080/"
        },
        "id": "OyYWTMnDrp-q",
        "outputId": "6ab5ab63-9d0d-4cd0-c5d9-6293712abe9f"
      },
      "execution_count": 35,
      "outputs": [
        {
          "output_type": "stream",
          "name": "stdout",
          "text": [
            "Impressive smartwatch with sleek design, long battery life, accurate tracking.\n"
          ]
        }
      ]
    },
    {
      "cell_type": "markdown",
      "source": [
        "# Inferring\n",
        "In this exercise, we will infer sentiment and topics from product reviews and news articles."
      ],
      "metadata": {
        "id": "gICiGTpuuLBK"
      }
    },
    {
      "cell_type": "code",
      "source": [
        "\n",
        "product_review = f\"\"\"\n",
        "\"The new blender was a disappointment right from the start. \\\n",
        "Despite its high-powered marketing claims, it struggles with basic blending tasks. \\\n",
        "The motor sounds strained when blending frozen fruits or ice, suggesting it might \\\n",
        "not be as durable as advertised. Furthermore, the blender is quite difficult to clean, \\\n",
        "with food particles often getting stuck under the blades. Considering its premium \\\n",
        "price point, I expected a lot more from this product.\"\"\"\n",
        "\n",
        "prompt = f\"\"\"\n",
        "\"Read the following product review carefully. Based on the content and tone of the review, \\\n",
        "determine whether the sentiment expressed towards the product is positive or negative. \\\n",
        "Provide your classification along with a brief justification for your decision.\"\n",
        "\n",
        "Review text: '''{product_review}'''\n",
        "\"\"\"\n",
        "response = get_response(prompt)\n",
        "print(response)"
      ],
      "metadata": {
        "colab": {
          "base_uri": "https://localhost:8080/"
        },
        "id": "QWEA2jH-uMZH",
        "outputId": "07acf2e6-c0ba-412e-c2a5-f02c999fe4fb"
      },
      "execution_count": 36,
      "outputs": [
        {
          "output_type": "stream",
          "name": "stdout",
          "text": [
            "Sentiment: Negative\n",
            "\n",
            "Justification: The review mentions multiple issues with the product, such as struggling with basic blending tasks, having a strained motor, being difficult to clean, and not meeting expectations given its premium price point. These criticisms indicate a negative sentiment towards the product.\n"
          ]
        }
      ]
    },
    {
      "cell_type": "code",
      "source": [
        "Story = f\"\"\"\n",
        "In the heart of the ancient forest stood the Whispering Oak, \\\n",
        "a tree older than the hills surrounding it. It was said that \\\n",
        "those who listened closely could hear it speak, offering wisdom \\\n",
        "passed down through centuries. Ella, a young scholar from the \\\n",
        "village, ventured into the forest, driven by curiosity and her \\\n",
        "thirst for knowledge. Guided by moonlight, she found the tree \\\n",
        "and spent the night under its vast canopy, listening to the \\\n",
        "stories it whispered on the breeze. Tales of forgotten civilizations, \\\n",
        "of stars that watched over the earth, and of nature's delicate \\\n",
        "balance filled her ears. By dawn, she returned to the village, \\\n",
        "her mind brimming with ideas and a newfound respect for the world \\\n",
        "around her. Inspired, Ella dedicated herself to sharing these lessons, \\\n",
        "believing that the key to the future lay in understanding the past \\\n",
        "and preserving the natural world.\"\"\"\n",
        "\n",
        "prompt = f\"\"\"\n",
        "Read the story provided carefully. Based on its content, \\\n",
        "infer 5 key topics that are central to the narrative. \\\n",
        "List these topics and provide a brief explanation for each choice.\n",
        "\n",
        "Story text: '''{Story}'''\n",
        "\"\"\"\n",
        "\n",
        "response = get_response(prompt)\n",
        "print(response)"
      ],
      "metadata": {
        "colab": {
          "base_uri": "https://localhost:8080/"
        },
        "id": "WEFTF93vvpNL",
        "outputId": "f02a3981-845e-4f9c-84cb-ac635fcdde77"
      },
      "execution_count": 37,
      "outputs": [
        {
          "output_type": "stream",
          "name": "stdout",
          "text": [
            "1. Nature and its wisdom: The Whispering Oak symbolizes the wisdom of nature and the importance of listening to the natural world. Ella's experience with the tree highlights the valuable lessons that can be learned from nature and the significance of preserving it.\n",
            "\n",
            "2. Curiosity and knowledge: Ella's curiosity and thirst for knowledge drive her to seek out the Whispering Oak and listen to its stories. This theme emphasizes the importance of curiosity in learning and the pursuit of knowledge.\n",
            "\n",
            "3. Connection to the past: The stories whispered by the Whispering Oak include tales of forgotten civilizations and ancient knowledge. This theme underscores the idea that understanding the past is essential for shaping the future.\n",
            "\n",
            "4. Respect for the environment: Ella's experience with the Whispering Oak leads her to develop a newfound respect for the natural world. This theme highlights the importance of respecting and preserving the environment for future generations.\n",
            "\n",
            "5. Inspiration and sharing wisdom: Ella is inspired by her encounter with the Whispering Oak to share the lessons she learned with others. This theme emphasizes the idea of passing on wisdom and knowledge to create a better future.\n"
          ]
        }
      ]
    },
    {
      "cell_type": "markdown",
      "source": [
        "# Transforming\n",
        "\n",
        "In this exercise, we will explore how to use Large Language Models for language translation."
      ],
      "metadata": {
        "id": "y8MLvBnfYSqx"
      }
    },
    {
      "cell_type": "code",
      "source": [
        "text = f\"\"\"\n",
        "Once upon a time in a land far, far away, there was a village where \\\n",
        "the people lived in harmony with nature. The heart of the village \\\n",
        "was a magnificent tree known to have magical properties. Legends \\\n",
        "said that it could heal the sick and bring prosperity to those who \\\n",
        "respected the earth. A young adventurer, curious about the world, \\\n",
        "set out to discover the secrets of this magical tree.\n",
        "\"\"\"\n",
        "\n",
        "prompt = f\"\"\"\n",
        "Below is a text in English. Please translate it accurately \\\n",
        "into German, maintaining the original meaning and context. Pay special \\\n",
        "attention to idiomatic expressions and cultural nuances to ensure the \\\n",
        "translation is both accurate and natural in German.\n",
        "\n",
        "text to translate: '''{text}'''\n",
        "\"\"\"\n",
        "\n",
        "response = get_response(prompt)\n",
        "print(response)"
      ],
      "metadata": {
        "colab": {
          "base_uri": "https://localhost:8080/"
        },
        "id": "y4LrxQVxYtzN",
        "outputId": "c8a6580b-643b-42d7-e457-48e3a3e318a2"
      },
      "execution_count": 5,
      "outputs": [
        {
          "output_type": "stream",
          "name": "stdout",
          "text": [
            "Es war einmal in einem Land weit, weit entfernt ein Dorf, in dem die Menschen im Einklang mit der Natur lebten. Das Herz des Dorfes war ein prächtiger Baum, von dem man sagte, er habe magische Eigenschaften. Legenden besagten, dass er die Kranken heilen und Wohlstand bringen konnte für diejenigen, die die Erde respektierten. Ein junger Abenteurer, neugierig auf die Welt, machte sich auf, um die Geheimnisse dieses magischen Baumes zu entdecken.\n"
          ]
        }
      ]
    },
    {
      "cell_type": "markdown",
      "source": [
        "# Expanding\n",
        "In this excerise, we will generate customer service emails that are tailored to each customer's review."
      ],
      "metadata": {
        "id": "uIokQEQean4-"
      }
    },
    {
      "cell_type": "code",
      "source": [
        "# Sentiment analysis result of a customer review\n",
        "sentiment = \"negative\"\n",
        "\n",
        "# Detailed customer review about a smartphone\n",
        "review = f\"\"\"\n",
        "I've been a loyal customer of XYZ Smartphones for over a decade, \\\n",
        "eagerly awaiting each new model. Last month, I purchased their \\\n",
        "latest model, the XYZ SmartPhone Pro, during a pre-order sale \\\n",
        "for $999, a significant investment for me. Initially, I was \\\n",
        "thrilled with its sleek design and the promise of cutting-edge \\\n",
        "features. However, my excitement quickly turned to frustration. \\\n",
        "Despite the high price, the phone's battery life is abysmal, \\\n",
        "barely lasting half a day on a full charge. Additionally, \\\n",
        "the camera quality, touted as revolutionary, is mediocre \\\n",
        "at best when compared to previous models. The most disappointing \\\n",
        "aspect was the customer service response when I reached out \\\n",
        "with my concerns. I was met with generic answers and no real \\\n",
        "solutions. It's disheartening to see the decline in quality \\\n",
        "and customer care from a brand I once trusted implicitly. \\\n",
        "I expected much better, especially considering the premium price point.\n",
        "\"\"\"\n",
        "\n",
        "# Task: Customize an automated email response based on the review sentiment\n",
        "prompt = f\"\"\"\n",
        "As an AI-powered customer service representative, \\\n",
        "it's your role to craft a tailored email response \\\n",
        "to a valued customer who has provided feedback. \\\n",
        "\n",
        "Based on the sentiment of the customer's message, your response should: \\\n",
        "- Acknowledge and thank the customer for taking the time to provide feedback. \\\n",
        "- If the sentiment of the review is positive or neutral, express gratitude for their support. \\\n",
        "- If the sentiment is negative, offer a sincere apology for their experience, \\\n",
        "and encourage them to contact customer support for personalized assistance. \\\n",
        "Include specific references to their concerns to demonstrate understanding and empathy. \\\n",
        "\n",
        "Ensure your reply is empathetic, professional, and concise, \\\n",
        "aiming to address the customer's feedback constructively. \\\n",
        "\n",
        "Sign off the email as 'AI Customer Support Team'. \\\n",
        "\n",
        "Given the customer's feedback:\n",
        "```{review}```\n",
        "And knowing the sentiment is '{sentiment}', draft your response.\n",
        "\"\"\"\n",
        "\n",
        "# Execute the prompt to generate a customized email response\n",
        "response = get_response(prompt)\n",
        "print(response)\n"
      ],
      "metadata": {
        "colab": {
          "base_uri": "https://localhost:8080/"
        },
        "id": "zw5A71q3atg4",
        "outputId": "767c5117-a435-4496-cc28-fb6ea1968ac8"
      },
      "execution_count": 6,
      "outputs": [
        {
          "output_type": "stream",
          "name": "stdout",
          "text": [
            "Subject: Thank you for your feedback on your recent purchase of the XYZ SmartPhone Pro\n",
            "\n",
            "Dear Valued Customer,\n",
            "\n",
            "Thank you for taking the time to share your feedback with us regarding your recent purchase of the XYZ SmartPhone Pro. We truly appreciate your loyalty and support over the past decade.\n",
            "\n",
            "We are truly sorry to hear about your disappointing experience with the battery life and camera quality of the new model. We understand how frustrating it must be to not have the expected performance from a product you invested in. We sincerely apologize for any inconvenience this may have caused you.\n",
            "\n",
            "Your feedback regarding the customer service response is also concerning to us. We strive to provide exceptional support to all our customers, and we regret that we fell short in addressing your concerns effectively. Please know that we take your feedback seriously and will work to improve our customer service processes to ensure a better experience for all our customers in the future.\n",
            "\n",
            "We would like to offer our assistance in resolving the issues you have encountered with your XYZ SmartPhone Pro. Please feel free to contact our customer support team at [insert contact information] for personalized assistance and further troubleshooting.\n",
            "\n",
            "Once again, we apologize for the disappointment you have experienced and thank you for bringing these issues to our attention. Your feedback is invaluable to us as we continue to strive for excellence in both our products and customer service.\n",
            "\n",
            "Thank you for your continued support and loyalty to XYZ Smartphones.\n",
            "\n",
            "Warm regards,\n",
            "\n",
            "AI Customer Support Team\n"
          ]
        }
      ]
    },
    {
      "cell_type": "markdown",
      "source": [
        "# Process Inputs: Chain of Thought Reasoning\n",
        "\n",
        "Classify customer service queries based on provided categories and subcategories."
      ],
      "metadata": {
        "id": "L90WFiIUde7A"
      }
    },
    {
      "cell_type": "code",
      "source": [
        "delimiter = \"####\"\n",
        "system_message = f\"\"\"\n",
        "To effectively process and respond to customer feedback, follow the outlined steps. The customer's feedback will be separated by {delimiter} for clarity.\n",
        "\n",
        "Step 1: {delimiter} Determine whether the feedback is primarily positive, negative, or neutral based on the customer's tone and content.\n",
        "\n",
        "Step 2: {delimiter} Identify specific aspects of the product mentioned in the feedback. This could include battery life, camera quality, software features, or design.\n",
        "\n",
        "Step 3: {delimiter} For each aspect mentioned, decide if the feedback is factual (based on specific features or specifications) or opinion-based (reflecting personal preference or experience).\n",
        "\n",
        "Step 4: {delimiter} For factual feedback, verify against the product's specifications to confirm accuracy. For opinion-based feedback, acknowledge the customer's experience and viewpoint.\n",
        "\n",
        "Step 5: {delimiter} Draft a response to the customer. If the feedback includes incorrect facts, gently correct them. Regardless of the feedback type, express gratitude for their input, address their specific comments, and offer assistance or additional information if necessary.\n",
        "\n",
        "Use this format for your analysis and response:\n",
        "Step 1: {delimiter} <Analysis of overall sentiment>\n",
        "Step 2: {delimiter} <Identification of product aspects mentioned>\n",
        "Step 3: {delimiter} <Classification of feedback into factual or opinion-based>\n",
        "Step 4: {delimiter} <Verification of factual feedback or acknowledgment of opinions>\n",
        "Response to customer: {delimiter} <Your comprehensive and thoughtful reply>\n",
        "\n",
        "Ensure to use {delimiter} to demarcate each section.\n",
        "\"\"\"\n",
        "\n",
        "# Example customer feedback for analysis and response generation\n",
        "customer_feedback = f\"\"\"\n",
        "{delimiter}\n",
        "I recently purchased the Galaxy Explorer smartphone and have been using it for the past two weeks. \\\n",
        "The battery life is nowhere near the advertised 48 hours - I'm barely getting a day out of it with \\\n",
        "moderate use. However, the camera is fantastic, taking some of the best photos I've ever seen on a phone. \\\n",
        "The new software update also introduced some really innovative features that I love. But, the phone's \\\n",
        "design feels a bit outdated compared to competitors.\n",
        "{delimiter}\n",
        "\"\"\"\n",
        "\n",
        "# The task would involve generating a classification and response based on the customer feedback using the detailed steps provided.\n",
        "response = get_response(customer_feedback + system_message)\n",
        "print(response)\n"
      ],
      "metadata": {
        "colab": {
          "base_uri": "https://localhost:8080/"
        },
        "id": "EITPWmLBdgVb",
        "outputId": "156e6de3-d10d-48c6-cca9-c0f35fc45a37"
      },
      "execution_count": 36,
      "outputs": [
        {
          "output_type": "stream",
          "name": "stdout",
          "text": [
            "Step 1: #### The customer's feedback contains a mix of positive and negative sentiments.\n",
            "\n",
            "Step 2: #### The customer mentions battery life, camera quality, software features, and design of the Galaxy Explorer smartphone.\n",
            "\n",
            "Step 3: #### The feedback on battery life and camera quality is factual, while opinions are expressed about software features and design.\n",
            "\n",
            "Step 4: #### The customer's observation about the battery life aligns with their experience, and the praise for the camera quality is supported by their statement. The opinions on software features and design are subjective to personal preference.\n",
            "\n",
            "Response to customer: ####\n",
            "Thank you for sharing your feedback on the Galaxy Explorer smartphone. We appreciate your insights on the battery life, camera quality, software features, and design aspects of the device.\n",
            "\n",
            "Regarding the battery life, we apologize for any discrepancy between the advertised 48 hours and your actual experience. We recommend optimizing your device's settings or reaching out to our customer support team for further assistance in maximizing battery performance.\n",
            "\n",
            "We are delighted to hear that you are enjoying the fantastic camera quality on the Galaxy Explorer. The innovative features introduced in the latest software update aim to enhance your overall user experience, and we are thrilled that you find them valuable.\n",
            "\n",
            "In terms of design, we understand that personal preferences vary, and we appreciate your feedback on this aspect. We continuously strive to improve our products based on customer input, and your comments will be taken into consideration for future developments.\n",
            "\n",
            "If you have any further questions or require assistance, please do not hesitate to contact us. Your feedback is invaluable to us, and we thank you for choosing the Galaxy Explorer smartphone.\n"
          ]
        }
      ]
    },
    {
      "cell_type": "code",
      "source": [],
      "metadata": {
        "id": "_W-Sl2IHd0EA"
      },
      "execution_count": null,
      "outputs": []
    }
  ]
}